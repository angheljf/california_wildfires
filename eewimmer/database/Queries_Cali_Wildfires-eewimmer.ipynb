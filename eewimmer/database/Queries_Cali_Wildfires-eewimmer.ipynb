{
 "cells": [
  {
   "cell_type": "code",
   "execution_count": 1,
   "id": "068b67f2-4e05-4bfa-be4c-f8961cb5c090",
   "metadata": {},
   "outputs": [],
   "source": [
    "#imports\n",
    "import pandas as pd\n",
    "import numpy as np\n",
    "import datetime\n",
    "\n",
    "import matplotlib.pyplot as plt\n",
    "import seaborn as sns\n",
    "\n",
    "from sqlalchemy import create_engine, inspect, text"
   ]
  },
  {
   "cell_type": "code",
   "execution_count": 2,
   "id": "7d650ab3-e006-4162-b16c-803835990f70",
   "metadata": {},
   "outputs": [],
   "source": [
    "#create engine using 'cali_wildfires.sqlite' database file\n",
    "engine = create_engine(\"sqlite:///cali_wildfires.sqlite\")"
   ]
  },
  {
   "cell_type": "code",
   "execution_count": 3,
   "id": "b0ba691f-5335-4874-a6fa-125e89fff62b",
   "metadata": {},
   "outputs": [
    {
     "name": "stdout",
     "output_type": "stream",
     "text": [
      "cali_wildfires\n",
      "--------\n",
      "AcresBurned FLOAT\n",
      "Active BOOLEAN\n",
      "AdminUnit TEXT\n",
      "AirTankers FLOAT\n",
      "ArchiveYear BIGINT\n",
      "CalFireIncident BOOLEAN\n",
      "CanonicalUrl TEXT\n",
      "ConditionStatement TEXT\n",
      "ControlStatement TEXT\n",
      "Counties TEXT\n",
      "CountyIds TEXT\n",
      "CrewsInvolved FLOAT\n",
      "Dozers FLOAT\n",
      "Engines FLOAT\n",
      "Extinguished TIMESTAMP\n",
      "Fatalities FLOAT\n",
      "Featured BOOLEAN\n",
      "Final BOOLEAN\n",
      "FuelType TEXT\n",
      "Helicopters FLOAT\n",
      "Injuries FLOAT\n",
      "Latitude FLOAT\n",
      "Location TEXT\n",
      "Longitude FLOAT\n",
      "MajorIncident BOOLEAN\n",
      "Name TEXT\n",
      "PercentContained FLOAT\n",
      "PersonnelInvolved FLOAT\n",
      "Public BOOLEAN\n",
      "SearchDescription TEXT\n",
      "SearchKeywords TEXT\n",
      "Started TIMESTAMP\n",
      "Status TEXT\n",
      "StructuresDamaged FLOAT\n",
      "StructuresDestroyed FLOAT\n",
      "StructuresEvacuated FLOAT\n",
      "StructuresThreatened FLOAT\n",
      "UniqueId TEXT\n",
      "Updated TIMESTAMP\n",
      "WaterTenders FLOAT\n",
      "YearStarted INTEGER\n",
      "MonthStarted INTEGER\n",
      "\n"
     ]
    }
   ],
   "source": [
    "#create the inspector and connect it to the engine\n",
    "inspector = inspect(engine)\n",
    "\n",
    "#collect the names of tables within the database\n",
    "tables = inspector.get_table_names()\n",
    "\n",
    "#use the inspector to print the column names within the 'dow' table and its types\n",
    "for table in tables:\n",
    "    print(table)\n",
    "    print(\"--------\")\n",
    "    columns = inspector.get_columns(table)\n",
    "    for column in columns:\n",
    "        print(column[\"name\"], column[\"type\"])\n",
    "\n",
    "    print()"
   ]
  },
  {
   "cell_type": "code",
   "execution_count": 4,
   "id": "b7ac584e-b88e-40fb-a6a9-1915c4a76a9f",
   "metadata": {},
   "outputs": [],
   "source": [
    "#SQL\n",
    "con = engine.connect()"
   ]
  },
  {
   "cell_type": "code",
   "execution_count": 5,
   "id": "7d4f44ee-4c00-4cbe-acd0-ec430eb95290",
   "metadata": {},
   "outputs": [
    {
     "data": {
      "text/html": [
       "<div>\n",
       "<style scoped>\n",
       "    .dataframe tbody tr th:only-of-type {\n",
       "        vertical-align: middle;\n",
       "    }\n",
       "\n",
       "    .dataframe tbody tr th {\n",
       "        vertical-align: top;\n",
       "    }\n",
       "\n",
       "    .dataframe thead th {\n",
       "        text-align: right;\n",
       "    }\n",
       "</style>\n",
       "<table border=\"1\" class=\"dataframe\">\n",
       "  <thead>\n",
       "    <tr style=\"text-align: right;\">\n",
       "      <th></th>\n",
       "      <th>year</th>\n",
       "      <th>num_wildfires</th>\n",
       "    </tr>\n",
       "  </thead>\n",
       "  <tbody>\n",
       "    <tr>\n",
       "      <th>0</th>\n",
       "      <td>1969</td>\n",
       "      <td>2</td>\n",
       "    </tr>\n",
       "    <tr>\n",
       "      <th>1</th>\n",
       "      <td>2013</td>\n",
       "      <td>810</td>\n",
       "    </tr>\n",
       "    <tr>\n",
       "      <th>2</th>\n",
       "      <td>2014</td>\n",
       "      <td>585</td>\n",
       "    </tr>\n",
       "    <tr>\n",
       "      <th>3</th>\n",
       "      <td>2015</td>\n",
       "      <td>760</td>\n",
       "    </tr>\n",
       "    <tr>\n",
       "      <th>4</th>\n",
       "      <td>2016</td>\n",
       "      <td>925</td>\n",
       "    </tr>\n",
       "  </tbody>\n",
       "</table>\n",
       "</div>"
      ],
      "text/plain": [
       "   year  num_wildfires\n",
       "0  1969              2\n",
       "1  2013            810\n",
       "2  2014            585\n",
       "3  2015            760\n",
       "4  2016            925"
      ]
     },
     "execution_count": 5,
     "metadata": {},
     "output_type": "execute_result"
    }
   ],
   "source": [
    "# number of wildfires started per year\n",
    "#### I have NO IDEA why 1969 is showing up. It was deleted in the database. rawr.\n",
    "query = text (\"\"\"SELECT\n",
    "                    YearStarted as year,\n",
    "                    count(UniqueID) as num_wildfires\n",
    "                    FROM\n",
    "                        cali_wildfires\n",
    "                    GROUP BY\n",
    "                        YearStarted\n",
    "                    ORDER BY\n",
    "                        YearStarted asc;\"\"\")\n",
    "PerYear = pd.read_sql(query, con = con)\n",
    "PerYear.head()"
   ]
  },
  {
   "cell_type": "code",
   "execution_count": 6,
   "id": "a534b49e-4709-4fab-8d98-4061b28de303",
   "metadata": {},
   "outputs": [
    {
     "data": {
      "image/png": "[encoded data removed]",
      "text/plain": [
       "<Figure size 800x600 with 1 Axes>"
      ]
     },
     "metadata": {},
     "output_type": "display_data"
    }
   ],
   "source": [
    "#num of wildfires per year plot\n",
    "plt.figure(figsize=(8, 6))\n",
    "plt.bar(PerYear.year, PerYear.num_wildfires, color=\"red\")\n",
    "plt.title(\"Number of Wildfires in California per Year\")\n",
    "plt.xlabel(\"Year\")\n",
    "plt.ylabel(\"Number of Wildfires\")\n",
    "plt.show()"
   ]
  },
  {
   "cell_type": "code",
   "execution_count": 7,
   "id": "a68e55c3-3817-43a8-bf0e-23b897094489",
   "metadata": {},
   "outputs": [
    {
     "data": {
      "text/html": [
       "<div>\n",
       "<style scoped>\n",
       "    .dataframe tbody tr th:only-of-type {\n",
       "        vertical-align: middle;\n",
       "    }\n",
       "\n",
       "    .dataframe tbody tr th {\n",
       "        vertical-align: top;\n",
       "    }\n",
       "\n",
       "    .dataframe thead th {\n",
       "        text-align: right;\n",
       "    }\n",
       "</style>\n",
       "<table border=\"1\" class=\"dataframe\">\n",
       "  <thead>\n",
       "    <tr style=\"text-align: right;\">\n",
       "      <th></th>\n",
       "      <th>month</th>\n",
       "      <th>num_wildfires</th>\n",
       "    </tr>\n",
       "  </thead>\n",
       "  <tbody>\n",
       "    <tr>\n",
       "      <th>0</th>\n",
       "      <td>1</td>\n",
       "      <td>55</td>\n",
       "    </tr>\n",
       "    <tr>\n",
       "      <th>1</th>\n",
       "      <td>2</td>\n",
       "      <td>50</td>\n",
       "    </tr>\n",
       "    <tr>\n",
       "      <th>2</th>\n",
       "      <td>3</td>\n",
       "      <td>30</td>\n",
       "    </tr>\n",
       "    <tr>\n",
       "      <th>3</th>\n",
       "      <td>4</td>\n",
       "      <td>175</td>\n",
       "    </tr>\n",
       "    <tr>\n",
       "      <th>4</th>\n",
       "      <td>5</td>\n",
       "      <td>700</td>\n",
       "    </tr>\n",
       "  </tbody>\n",
       "</table>\n",
       "</div>"
      ],
      "text/plain": [
       "   month  num_wildfires\n",
       "0      1             55\n",
       "1      2             50\n",
       "2      3             30\n",
       "3      4            175\n",
       "4      5            700"
      ]
     },
     "execution_count": 7,
     "metadata": {},
     "output_type": "execute_result"
    }
   ],
   "source": [
    "# number of wildfires started per month\n",
    "#### I have NO IDEA why 1969 is showing up. It was deleted in the database. rawr.\n",
    "query = text (\"\"\"SELECT\n",
    "                    MonthStarted as month,\n",
    "                    count(UniqueID) as num_wildfires\n",
    "                    FROM\n",
    "                        cali_wildfires\n",
    "                    GROUP BY\n",
    "                        MonthStarted\n",
    "                    ORDER BY\n",
    "                        MonthStarted asc;\"\"\")\n",
    "PerMonth = pd.read_sql(query, con = con)\n",
    "PerMonth.head()"
   ]
  },
  {
   "cell_type": "code",
   "execution_count": 8,
   "id": "7b77fc0f-6e5e-44e0-b380-1d723b2550ce",
   "metadata": {},
   "outputs": [
    {
     "data": {
      "image/png": "[encoded data removed]",
      "text/plain": [
       "<Figure size 800x600 with 1 Axes>"
      ]
     },
     "metadata": {},
     "output_type": "display_data"
    }
   ],
   "source": [
    "#num of wildfires per month plot\n",
    "\n",
    "plt.figure(figsize=(8, 6))\n",
    "plt.bar(PerMonth.month, PerMonth.num_wildfires, color=\"red\")\n",
    "plt.title(\"Number of Wildfires in California per Month\")\n",
    "plt.xlabel(\"Month\")\n",
    "plt.ylabel(\"Number of Wildfires\")\n",
    "plt.show()"
   ]
  },
  {
   "cell_type": "code",
   "execution_count": null,
   "id": "23076ad6-c052-4dbd-bc30-331f806806d0",
   "metadata": {},
   "outputs": [],
   "source": []
  }
 ],
 "metadata": {
  "kernelspec": {
   "display_name": "Python 3 (ipykernel)",
   "language": "python",
   "name": "python3"
  },
  "language_info": {
   "codemirror_mode": {
    "name": "ipython",
    "version": 3
   },
   "file_extension": ".py",
   "mimetype": "text/x-python",
   "name": "python",
   "nbconvert_exporter": "python",
   "pygments_lexer": "ipython3",
   "version": "3.10.15"
  }
 },
 "nbformat": 4,
 "nbformat_minor": 5
}
